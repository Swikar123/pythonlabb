{
 "cells": [
  {
   "cell_type": "markdown",
   "metadata": {},
   "source": [
    "# PyCity Schools Analysis\n",
    "\n",
    "* As a whole, schools with higher budgets, did not yield better test results. By contrast, schools with higher spending per student actually (\\\\$645 - 675) underperformed compared to schools with smaller budgets (\\\\$585 per student).\n",
    "\n",
    "* As a whole, smaller and medium sized schools dramatically out-performed large sized schools on passing math performances (89-91% passing vs 67%).\n",
    "\n",
    "* As a whole, charter schools out-performed the public district schools across all metrics. However, more analysis will be required to glean if the effect is due to school practices or the fact that charter schools tend to serve smaller student populations per school. \n",
    "---"
   ]
  },
  {
   "cell_type": "markdown",
   "metadata": {},
   "source": [
    "**Note:**\n",
    "Instructions have been included for each segment. You do not have to follow them exactly, but they are included to help you think through the steps."
   ]
  },
  {
   "cell_type": "code",
   "execution_count": 3,
   "metadata": {
    "ExecuteTime": {
     "end_time": "2022-08-06T06:08:31.925112Z",
     "start_time": "2022-08-06T06:08:29.337754Z"
    }
   },
   "outputs": [
    {
     "name": "stdout",
     "output_type": "stream",
     "text": [
      "   id  School ID            school_name      type  size   budget\n",
      "0   0          0      Huang High School  District  2917  1910635\n",
      "1   1          1   Figueroa High School  District  2949  1884411\n",
      "2   2          2    Shelton High School   Charter  1761  1056600\n",
      "3   3          3  Hernandez High School  District  4635  3022020\n",
      "4   4          4    Griffin High School   Charter  1468   917500\n",
      "   id  Student ID       student_name gender grade        school_name  \\\n",
      "0   0           0       Paul Bradley      M   9th  Huang High School   \n",
      "1   1           1       Victor Smith      M  12th  Huang High School   \n",
      "2   2           2    Kevin Rodriguez      M  12th  Huang High School   \n",
      "3   3           3  Dr. Richard Scott      M  12th  Huang High School   \n",
      "4   4           4         Bonnie Ray      F   9th  Huang High School   \n",
      "\n",
      "   reading_score  math_score  \n",
      "0             66          79  \n",
      "1             94          61  \n",
      "2             90          60  \n",
      "3             67          58  \n",
      "4             97          84  \n"
     ]
    }
   ],
   "source": [
    "# Dependencies and Setup\n",
    "import pandas as pd\n",
    "import numpy as np\n",
    "import sqlite3\n",
    "\n",
    "con = sqlite3.connect('/Users/swikar/Desktop/python.db')\n",
    "\n",
    "school_data = pd.read_sql_query(\"SELECT * FROM school;\", con)\n",
    "student_data = pd.read_sql_query(\"SELECT * FROM student;\", con)\n",
    "\n",
    "con.close()\n",
    "\n",
    "print(school_data.head())\n",
    "print(student_data.head())\n"
   ]
  },
  {
   "cell_type": "code",
   "execution_count": 4,
   "metadata": {},
   "outputs": [
    {
     "data": {
      "text/html": [
       "<div>\n",
       "<style scoped>\n",
       "    .dataframe tbody tr th:only-of-type {\n",
       "        vertical-align: middle;\n",
       "    }\n",
       "\n",
       "    .dataframe tbody tr th {\n",
       "        vertical-align: top;\n",
       "    }\n",
       "\n",
       "    .dataframe thead th {\n",
       "        text-align: right;\n",
       "    }\n",
       "</style>\n",
       "<table border=\"1\" class=\"dataframe\">\n",
       "  <thead>\n",
       "    <tr style=\"text-align: right;\">\n",
       "      <th></th>\n",
       "      <th>id_x</th>\n",
       "      <th>Student ID</th>\n",
       "      <th>student_name</th>\n",
       "      <th>gender</th>\n",
       "      <th>grade</th>\n",
       "      <th>school_name</th>\n",
       "      <th>reading_score</th>\n",
       "      <th>math_score</th>\n",
       "      <th>id_y</th>\n",
       "      <th>School ID</th>\n",
       "      <th>type</th>\n",
       "      <th>size</th>\n",
       "      <th>budget</th>\n",
       "    </tr>\n",
       "  </thead>\n",
       "  <tbody>\n",
       "    <tr>\n",
       "      <th>0</th>\n",
       "      <td>0</td>\n",
       "      <td>0</td>\n",
       "      <td>Paul Bradley</td>\n",
       "      <td>M</td>\n",
       "      <td>9th</td>\n",
       "      <td>Huang High School</td>\n",
       "      <td>66</td>\n",
       "      <td>79</td>\n",
       "      <td>0</td>\n",
       "      <td>0</td>\n",
       "      <td>District</td>\n",
       "      <td>2917</td>\n",
       "      <td>1910635</td>\n",
       "    </tr>\n",
       "    <tr>\n",
       "      <th>1</th>\n",
       "      <td>1</td>\n",
       "      <td>1</td>\n",
       "      <td>Victor Smith</td>\n",
       "      <td>M</td>\n",
       "      <td>12th</td>\n",
       "      <td>Huang High School</td>\n",
       "      <td>94</td>\n",
       "      <td>61</td>\n",
       "      <td>0</td>\n",
       "      <td>0</td>\n",
       "      <td>District</td>\n",
       "      <td>2917</td>\n",
       "      <td>1910635</td>\n",
       "    </tr>\n",
       "    <tr>\n",
       "      <th>2</th>\n",
       "      <td>2</td>\n",
       "      <td>2</td>\n",
       "      <td>Kevin Rodriguez</td>\n",
       "      <td>M</td>\n",
       "      <td>12th</td>\n",
       "      <td>Huang High School</td>\n",
       "      <td>90</td>\n",
       "      <td>60</td>\n",
       "      <td>0</td>\n",
       "      <td>0</td>\n",
       "      <td>District</td>\n",
       "      <td>2917</td>\n",
       "      <td>1910635</td>\n",
       "    </tr>\n",
       "    <tr>\n",
       "      <th>3</th>\n",
       "      <td>3</td>\n",
       "      <td>3</td>\n",
       "      <td>Dr. Richard Scott</td>\n",
       "      <td>M</td>\n",
       "      <td>12th</td>\n",
       "      <td>Huang High School</td>\n",
       "      <td>67</td>\n",
       "      <td>58</td>\n",
       "      <td>0</td>\n",
       "      <td>0</td>\n",
       "      <td>District</td>\n",
       "      <td>2917</td>\n",
       "      <td>1910635</td>\n",
       "    </tr>\n",
       "    <tr>\n",
       "      <th>4</th>\n",
       "      <td>4</td>\n",
       "      <td>4</td>\n",
       "      <td>Bonnie Ray</td>\n",
       "      <td>F</td>\n",
       "      <td>9th</td>\n",
       "      <td>Huang High School</td>\n",
       "      <td>97</td>\n",
       "      <td>84</td>\n",
       "      <td>0</td>\n",
       "      <td>0</td>\n",
       "      <td>District</td>\n",
       "      <td>2917</td>\n",
       "      <td>1910635</td>\n",
       "    </tr>\n",
       "  </tbody>\n",
       "</table>\n",
       "</div>"
      ],
      "text/plain": [
       "   id_x  Student ID       student_name gender grade        school_name  \\\n",
       "0     0           0       Paul Bradley      M   9th  Huang High School   \n",
       "1     1           1       Victor Smith      M  12th  Huang High School   \n",
       "2     2           2    Kevin Rodriguez      M  12th  Huang High School   \n",
       "3     3           3  Dr. Richard Scott      M  12th  Huang High School   \n",
       "4     4           4         Bonnie Ray      F   9th  Huang High School   \n",
       "\n",
       "   reading_score  math_score  id_y  School ID      type  size   budget  \n",
       "0             66          79     0          0  District  2917  1910635  \n",
       "1             94          61     0          0  District  2917  1910635  \n",
       "2             90          60     0          0  District  2917  1910635  \n",
       "3             67          58     0          0  District  2917  1910635  \n",
       "4             97          84     0          0  District  2917  1910635  "
      ]
     },
     "execution_count": 4,
     "metadata": {},
     "output_type": "execute_result"
    }
   ],
   "source": [
    "school_data_complete = pd.merge(student_data, school_data, how=\"left\", on=[\"school_name\", \"school_name\"])\n",
    "school_data_complete.head()"
   ]
  },
  {
   "cell_type": "markdown",
   "metadata": {},
   "source": [
    "## District Summary\n",
    "\n",
    "* Calculate the total number of schools\n",
    "\n",
    "* Calculate the total number of students\n",
    "\n",
    "* Calculate the total budget\n",
    "\n",
    "* Calculate the average math score \n",
    "\n",
    "* Calculate the average reading score\n",
    "\n",
    "* Calculate the overall passing rate (overall average score), i.e. (avg. math score + avg. reading score)/2\n",
    "\n",
    "* Calculate the percentage of students with a passing math score (70 or greater)\n",
    "\n",
    "* Calculate the percentage of students with a passing reading score (70 or greater)\n",
    "\n",
    "* Create a dataframe to hold the above results\n",
    "\n",
    "* Optional: give the displayed data cleaner formatting"
   ]
  },
  {
   "cell_type": "code",
   "execution_count": 5,
   "metadata": {},
   "outputs": [],
   "source": [
    "# Create a District Summary\n",
    "\n",
    "\n"
   ]
  },
  {
   "cell_type": "code",
   "execution_count": 7,
   "metadata": {},
   "outputs": [],
   "source": [
    "# Total number of schools\n",
    "\n",
    "total_schools = school_data['school_name'].nunique()\n",
    "\n"
   ]
  },
  {
   "cell_type": "code",
   "execution_count": null,
   "metadata": {},
   "outputs": [],
   "source": [
    "# Total number of students\n",
    "\n",
    "total_students = student_data['student_name'].count()\n",
    "\n"
   ]
  },
  {
   "cell_type": "code",
   "execution_count": null,
   "metadata": {},
   "outputs": [],
   "source": [
    "# Total budget\n",
    "\n",
    "\n",
    "total_budget = school_data['budget'].sum()\n"
   ]
  },
  {
   "cell_type": "code",
   "execution_count": 21,
   "metadata": {},
   "outputs": [],
   "source": [
    "average_math_score = student_data['math_score'].mean()\n",
    "\n"
   ]
  },
  {
   "cell_type": "code",
   "execution_count": 9,
   "metadata": {},
   "outputs": [],
   "source": [
    "\n",
    "average_reading_score = student_data['reading_score'].mean()\n",
    "\n"
   ]
  },
  {
   "cell_type": "code",
   "execution_count": 22,
   "metadata": {},
   "outputs": [],
   "source": [
    "overall_passing_rate=(average_math_score + average_reading_score) / 2"
   ]
  },
  {
   "cell_type": "code",
   "execution_count": 23,
   "metadata": {},
   "outputs": [],
   "source": [
    "\n",
    "passing_math_percentage = (\n",
    "    student_data[student_data['math_score'] >= 70]['student_name'].count() / total_students\n",
    ") * 100\n"
   ]
  },
  {
   "cell_type": "markdown",
   "metadata": {},
   "source": [
    "## School Summary"
   ]
  },
  {
   "cell_type": "markdown",
   "metadata": {},
   "source": [
    "* Create an overview table that summarizes key metrics about each school, including:\n",
    "  * School Name\n",
    "  * School Type\n",
    "  * Total Students\n",
    "  * Total School Budget\n",
    "  * Per Student Budget\n",
    "  * Average Math Score\n",
    "  * Average Reading Score\n",
    "  * % Passing Math\n",
    "  * % Passing Reading\n",
    "  * Overall Passing Rate (Average of the above two)\n",
    "  \n",
    "* Create a dataframe to hold the above results"
   ]
  },
  {
   "cell_type": "code",
   "execution_count": 29,
   "metadata": {},
   "outputs": [
    {
     "name": "stdout",
     "output_type": "stream",
     "text": [
      "             school_name  id  School ID      type  size   budget  \\\n",
      "0      Huang High School   0          0  District  2917  1910635   \n",
      "1   Figueroa High School   1          1  District  2949  1884411   \n",
      "2    Shelton High School   2          2   Charter  1761  1056600   \n",
      "3  Hernandez High School   3          3  District  4635  3022020   \n",
      "4    Griffin High School   4          4   Charter  1468   917500   \n",
      "\n",
      "   Total Students  Average Math Score  Average Reading Score  % Passing Math  \\\n",
      "0            2917           76.629414              81.182722       65.683922   \n",
      "1            2949           76.711767              81.158020       65.988471   \n",
      "2            1761           83.359455              83.725724       93.867121   \n",
      "3            4635           77.289752              80.934412       66.752967   \n",
      "4            1468           83.351499              83.816757       93.392371   \n",
      "\n",
      "   % Passing Reading  Overall Passing Rate  Per Student Budget  \n",
      "0          81.316421             73.500171               655.0  \n",
      "1          80.739234             73.363852               639.0  \n",
      "2          95.854628             94.860875               600.0  \n",
      "3          80.862999             73.807983               652.0  \n",
      "4          97.138965             95.265668               625.0  \n"
     ]
    }
   ],
   "source": [
    "# Group the student data by school\n",
    "grouped_students = student_data.groupby('school_name')\n",
    "\n",
    "total_students_per_school = grouped_students['student_name'].count()\n",
    "\n",
    "average_math_score_per_school = grouped_students['math_score'].mean()\n",
    "average_reading_score_per_school = grouped_students['reading_score'].mean()\n",
    "\n",
    "passing_math = student_data[student_data['math_score'] >= 70].groupby('school_name')['student_name'].count()\n",
    "passing_reading = student_data[student_data['reading_score'] >= 70].groupby('school_name')['student_name'].count()\n",
    "\n",
    "passing_math_percentage = (passing_math / total_students_per_school) * 100\n",
    "passing_reading_percentage = (passing_reading / total_students_per_school) * 100\n",
    "\n",
    "overall_passing_rate = (passing_math_percentage + passing_reading_percentage) / 2\n",
    "school_summary = school_data.set_index('school_name').join(pd.DataFrame({\n",
    "    'Total Students': total_students_per_school,\n",
    "    'Average Math Score': average_math_score_per_school,\n",
    "    'Average Reading Score': average_reading_score_per_school,\n",
    "    '% Passing Math': passing_math_percentage,\n",
    "    '% Passing Reading': passing_reading_percentage,\n",
    "    'Overall Passing Rate': overall_passing_rate\n",
    "}))\n",
    "\n",
    "school_summary['Per Student Budget'] = school_summary['budget'] / school_summary['Total Students']\n",
    "\n",
    "school_summary.reset_index(inplace=True)\n",
    "\n",
    "print(school_summary.head())\n"
   ]
  },
  {
   "cell_type": "markdown",
   "metadata": {},
   "source": [
    "### Top Performing Schools (By Passing Rate)"
   ]
  },
  {
   "cell_type": "markdown",
   "metadata": {},
   "source": [
    "* Sort and display the top five schools in overall passing rate"
   ]
  },
  {
   "cell_type": "code",
   "execution_count": 30,
   "metadata": {},
   "outputs": [
    {
     "name": "stdout",
     "output_type": "stream",
     "text": [
      "Top Performing Schools (By Overall Passing Rate):\n",
      "            school_name  id  School ID     type  size   budget  \\\n",
      "6   Cabrera High School   6          6  Charter  1858  1081356   \n",
      "14   Thomas High School  14         14  Charter  1635  1043130   \n",
      "9      Pena High School   9          9  Charter   962   585858   \n",
      "4   Griffin High School   4          4  Charter  1468   917500   \n",
      "5    Wilson High School   5          5  Charter  2283  1319574   \n",
      "\n",
      "    Total Students  Average Math Score  Average Reading Score  % Passing Math  \\\n",
      "6             1858           83.061895              83.975780       94.133477   \n",
      "14            1635           83.418349              83.848930       93.272171   \n",
      "9              962           83.839917              84.044699       94.594595   \n",
      "4             1468           83.351499              83.816757       93.392371   \n",
      "5             2283           83.274201              83.989488       93.867718   \n",
      "\n",
      "    % Passing Reading  Overall Passing Rate  Per Student Budget  \n",
      "6           97.039828             95.586652               582.0  \n",
      "14          97.308869             95.290520               638.0  \n",
      "9           95.945946             95.270270               609.0  \n",
      "4           97.138965             95.265668               625.0  \n",
      "5           96.539641             95.203679               578.0  \n"
     ]
    }
   ],
   "source": [
    "\n",
    "# Sort and display the top five schools in overall passing rate\n",
    "top_schools = school_summary.sort_values(by='Overall Passing Rate', ascending=False).head(5)\n",
    "print(\"Top Performing Schools (By Overall Passing Rate):\")\n",
    "print(top_schools)\n",
    "\n"
   ]
  },
  {
   "cell_type": "code",
   "execution_count": 25,
   "metadata": {
    "scrolled": true
   },
   "outputs": [
    {
     "name": "stdout",
     "output_type": "stream",
     "text": [
      "school_name\n",
      "Bailey High School       3124928\n",
      "Cabrera High School      1081356\n",
      "Figueroa High School     1884411\n",
      "Ford High School         1763916\n",
      "Griffin High School       917500\n",
      "Hernandez High School    3022020\n",
      "Holden High School        248087\n",
      "Huang High School        1910635\n",
      "Johnson High School      3094650\n",
      "Pena High School          585858\n",
      "Rodriguez High School    2547363\n",
      "Shelton High School      1056600\n",
      "Thomas High School       1043130\n",
      "Wilson High School       1319574\n",
      "Wright High School       1049400\n",
      "Name: budget, dtype: int64\n"
     ]
    }
   ],
   "source": [
    "# Calculate total school budget\n",
    "total_school_budget = school_data.groupby('school_name')['budget'].sum()\n",
    "print(total_school_budget)\n"
   ]
  },
  {
   "cell_type": "code",
   "execution_count": 31,
   "metadata": {},
   "outputs": [
    {
     "name": "stdout",
     "output_type": "stream",
     "text": [
      "school_name\n",
      "Bailey High School       628.0\n",
      "Cabrera High School      582.0\n",
      "Figueroa High School     639.0\n",
      "Ford High School         644.0\n",
      "Griffin High School      625.0\n",
      "Hernandez High School    652.0\n",
      "Holden High School       581.0\n",
      "Huang High School        655.0\n",
      "Johnson High School      650.0\n",
      "Pena High School         609.0\n",
      "Rodriguez High School    637.0\n",
      "Shelton High School      600.0\n",
      "Thomas High School       638.0\n",
      "Wilson High School       578.0\n",
      "Wright High School       583.0\n",
      "dtype: float64\n"
     ]
    }
   ],
   "source": [
    "# Calculate per student budget\n",
    "per_student_budget = total_school_budget / total_students_per_school\n",
    "print(per_student_budget)\n",
    "\n",
    "\n"
   ]
  },
  {
   "cell_type": "code",
   "execution_count": 32,
   "metadata": {},
   "outputs": [
    {
     "name": "stdout",
     "output_type": "stream",
     "text": [
      "school_name\n",
      "Bailey High School       77.048432\n",
      "Cabrera High School      83.061895\n",
      "Figueroa High School     76.711767\n",
      "Ford High School         77.102592\n",
      "Griffin High School      83.351499\n",
      "Hernandez High School    77.289752\n",
      "Holden High School       83.803279\n",
      "Huang High School        76.629414\n",
      "Johnson High School      77.072464\n",
      "Pena High School         83.839917\n",
      "Rodriguez High School    76.842711\n",
      "Shelton High School      83.359455\n",
      "Thomas High School       83.418349\n",
      "Wilson High School       83.274201\n",
      "Wright High School       83.682222\n",
      "Name: math_score, dtype: float64\n",
      "school_name\n",
      "Bailey High School       81.033963\n",
      "Cabrera High School      83.975780\n",
      "Figueroa High School     81.158020\n",
      "Ford High School         80.746258\n",
      "Griffin High School      83.816757\n",
      "Hernandez High School    80.934412\n",
      "Holden High School       83.814988\n",
      "Huang High School        81.182722\n",
      "Johnson High School      80.966394\n",
      "Pena High School         84.044699\n",
      "Rodriguez High School    80.744686\n",
      "Shelton High School      83.725724\n",
      "Thomas High School       83.848930\n",
      "Wilson High School       83.989488\n",
      "Wright High School       83.955000\n",
      "Name: reading_score, dtype: float64\n"
     ]
    }
   ],
   "source": [
    "# Cacluate the avg math and reading score\n",
    "\n",
    "average_math_score_per_school = grouped_students['math_score'].mean()\n",
    "average_reading_score_per_school = grouped_students['reading_score'].mean()\n",
    "\n",
    "print(average_math_score_per_school)\n",
    "print(average_reading_score_per_school)\n",
    "\n"
   ]
  },
  {
   "cell_type": "markdown",
   "metadata": {},
   "source": [
    "#### Find the passing rate for math and reading (above 70 points)"
   ]
  },
  {
   "cell_type": "code",
   "execution_count": 34,
   "metadata": {},
   "outputs": [
    {
     "name": "stdout",
     "output_type": "stream",
     "text": [
      "Math Passing Rate:\n",
      " school_name\n",
      "Bailey High School       66.680064\n",
      "Cabrera High School      94.133477\n",
      "Figueroa High School     65.988471\n",
      "Ford High School         68.309602\n",
      "Griffin High School      93.392371\n",
      "Hernandez High School    66.752967\n",
      "Holden High School       92.505855\n",
      "Huang High School        65.683922\n",
      "Johnson High School      66.057551\n",
      "Pena High School         94.594595\n",
      "Rodriguez High School    66.366592\n",
      "Shelton High School      93.867121\n",
      "Thomas High School       93.272171\n",
      "Wilson High School       93.867718\n",
      "Wright High School       93.333333\n",
      "Name: math_score, dtype: float64\n"
     ]
    }
   ],
   "source": [
    "total_math_count = student_data.groupby('school_name')['math_score'].count()\n",
    "math_passing_count = student_data[student_data['math_score'] >= 70].groupby('school_name')['math_score'].count()\n",
    "math_passing_rate = (math_passing_count / total_math_count) * 100\n",
    "\n",
    "print(\"Math Passing Rate:\\n\", math_passing_rate)\n"
   ]
  },
  {
   "cell_type": "code",
   "execution_count": 35,
   "metadata": {},
   "outputs": [
    {
     "name": "stdout",
     "output_type": "stream",
     "text": [
      "Reading Passing Rate:\n",
      " school_name\n",
      "Bailey High School       81.933280\n",
      "Cabrera High School      97.039828\n",
      "Figueroa High School     80.739234\n",
      "Ford High School         79.299014\n",
      "Griffin High School      97.138965\n",
      "Hernandez High School    80.862999\n",
      "Holden High School       96.252927\n",
      "Huang High School        81.316421\n",
      "Johnson High School      81.222432\n",
      "Pena High School         95.945946\n",
      "Rodriguez High School    80.220055\n",
      "Shelton High School      95.854628\n",
      "Thomas High School       97.308869\n",
      "Wilson High School       96.539641\n",
      "Wright High School       96.611111\n",
      "Name: reading_score, dtype: float64\n"
     ]
    }
   ],
   "source": [
    "total_read_count = student_data.groupby('school_name')['reading_score'].count()\n",
    "\n",
    "read_passing_count = student_data[student_data['reading_score'] >= 70].groupby('school_name')['reading_score'].count()\n",
    "\n",
    "reading_passing_rate = (read_passing_count / total_read_count) * 100\n",
    "\n",
    "print(\"Reading Passing Rate:\\n\", reading_passing_rate)\n"
   ]
  },
  {
   "cell_type": "code",
   "execution_count": 36,
   "metadata": {},
   "outputs": [
    {
     "name": "stdout",
     "output_type": "stream",
     "text": [
      "Overall Passing Rate:\n",
      " school_name\n",
      "Bailey High School       74.306672\n",
      "Cabrera High School      95.586652\n",
      "Figueroa High School     73.363852\n",
      "Ford High School         73.804308\n",
      "Griffin High School      95.265668\n",
      "Hernandez High School    73.807983\n",
      "Holden High School       94.379391\n",
      "Huang High School        73.500171\n",
      "Johnson High School      73.639992\n",
      "Pena High School         95.270270\n",
      "Rodriguez High School    73.293323\n",
      "Shelton High School      94.860875\n",
      "Thomas High School       95.290520\n",
      "Wilson High School       95.203679\n",
      "Wright High School       94.972222\n",
      "dtype: float64\n"
     ]
    }
   ],
   "source": [
    "overall_passing_rate = (math_passing_rate + reading_passing_rate) / 2\n",
    "\n",
    "print(\"Overall Passing Rate:\\n\", overall_passing_rate)\n",
    "\n",
    "\n"
   ]
  },
  {
   "cell_type": "code",
   "execution_count": null,
   "metadata": {},
   "outputs": [],
   "source": []
  },
  {
   "cell_type": "code",
   "execution_count": null,
   "metadata": {},
   "outputs": [],
   "source": []
  },
  {
   "cell_type": "code",
   "execution_count": null,
   "metadata": {},
   "outputs": [],
   "source": []
  },
  {
   "cell_type": "markdown",
   "metadata": {},
   "source": [
    "### Bottom Performing Schools (By Passing Rate)"
   ]
  },
  {
   "cell_type": "markdown",
   "metadata": {},
   "source": [
    "* Sort and display the five worst-performing schools"
   ]
  },
  {
   "cell_type": "code",
   "execution_count": 37,
   "metadata": {},
   "outputs": [
    {
     "name": "stdout",
     "output_type": "stream",
     "text": [
      "Worst Performing Schools (By Overall Passing Rate):\n",
      "              school_name  id  School ID      type  size   budget  \\\n",
      "11  Rodriguez High School  11         11  District  3999  2547363   \n",
      "1    Figueroa High School   1          1  District  2949  1884411   \n",
      "0       Huang High School   0          0  District  2917  1910635   \n",
      "12    Johnson High School  12         12  District  4761  3094650   \n",
      "13       Ford High School  13         13  District  2739  1763916   \n",
      "\n",
      "    Total Students  Average Math Score  Average Reading Score  % Passing Math  \\\n",
      "11            3999           76.842711              80.744686       66.366592   \n",
      "1             2949           76.711767              81.158020       65.988471   \n",
      "0             2917           76.629414              81.182722       65.683922   \n",
      "12            4761           77.072464              80.966394       66.057551   \n",
      "13            2739           77.102592              80.746258       68.309602   \n",
      "\n",
      "    % Passing Reading  Overall Passing Rate  Per Student Budget  \n",
      "11          80.220055             73.293323               637.0  \n",
      "1           80.739234             73.363852               639.0  \n",
      "0           81.316421             73.500171               655.0  \n",
      "12          81.222432             73.639992               650.0  \n",
      "13          79.299014             73.804308               644.0  \n"
     ]
    }
   ],
   "source": [
    "# Sort and display the worst five schools in overall passing rate\n",
    "worst_schools = school_summary.sort_values(by='Overall Passing Rate', ascending=True).head(5)\n",
    "\n",
    "print(\"Worst Performing Schools (By Overall Passing Rate):\")\n",
    "print(worst_schools)\n",
    "\n",
    "\n"
   ]
  },
  {
   "cell_type": "markdown",
   "metadata": {
    "collapsed": true
   },
   "source": [
    "## Math Scores by Grade"
   ]
  },
  {
   "cell_type": "markdown",
   "metadata": {},
   "source": [
    "* Create a table that lists the average Reading Score for students of each grade level (9th, 10th, 11th, 12th) at each school.\n",
    "\n",
    "  * Create a pandas series for each grade. Hint: use a conditional statement.\n",
    "  \n",
    "  * Group each series by school\n",
    "  \n",
    "  * Combine the series into a dataframe\n",
    "  \n",
    "  * Optional: give the displayed data cleaner formatting"
   ]
  },
  {
   "cell_type": "code",
   "execution_count": 38,
   "metadata": {},
   "outputs": [
    {
     "name": "stdout",
     "output_type": "stream",
     "text": [
      "Average Math Score by School and Grade:\n",
      "              school_name grade  math_score\n",
      "0      Bailey High School  10th   76.996772\n",
      "1      Bailey High School  11th   77.515588\n",
      "2      Bailey High School  12th   76.492218\n",
      "3      Bailey High School   9th   77.083676\n",
      "4     Cabrera High School  10th   83.154506\n",
      "5     Cabrera High School  11th   82.765560\n",
      "6     Cabrera High School  12th   83.277487\n",
      "7     Cabrera High School   9th   83.094697\n",
      "8    Figueroa High School  10th   76.539974\n",
      "9    Figueroa High School  11th   76.884344\n",
      "10   Figueroa High School  12th   77.151369\n",
      "11   Figueroa High School   9th   76.403037\n",
      "12       Ford High School  10th   77.672316\n",
      "13       Ford High School  11th   76.918058\n",
      "14       Ford High School  12th   76.179963\n",
      "15       Ford High School   9th   77.361345\n",
      "16    Griffin High School  10th   84.229064\n",
      "17    Griffin High School  11th   83.842105\n",
      "18    Griffin High School  12th   83.356164\n",
      "19    Griffin High School   9th   82.044010\n",
      "20  Hernandez High School  10th   77.337408\n",
      "21  Hernandez High School  11th   77.136029\n",
      "22  Hernandez High School  12th   77.186567\n",
      "23  Hernandez High School   9th   77.438495\n",
      "24     Holden High School  10th   83.429825\n",
      "25     Holden High School  11th   85.000000\n",
      "26     Holden High School  12th   82.855422\n",
      "27     Holden High School   9th   83.787402\n",
      "28      Huang High School  10th   75.908735\n",
      "29      Huang High School  11th   76.446602\n",
      "30      Huang High School  12th   77.225641\n",
      "31      Huang High School   9th   77.027251\n",
      "32    Johnson High School  10th   76.691117\n",
      "33    Johnson High School  11th   77.491653\n",
      "34    Johnson High School  12th   76.863248\n",
      "35    Johnson High School   9th   77.187857\n",
      "36       Pena High School  10th   83.372000\n",
      "37       Pena High School  11th   84.328125\n",
      "38       Pena High School  12th   84.121547\n",
      "39       Pena High School   9th   83.625455\n",
      "40  Rodriguez High School  10th   76.612500\n",
      "41  Rodriguez High School  11th   76.395626\n",
      "42  Rodriguez High School  12th   77.690748\n",
      "43  Rodriguez High School   9th   76.859966\n",
      "44    Shelton High School  10th   82.917411\n",
      "45    Shelton High School  11th   83.383495\n",
      "46    Shelton High School  12th   83.778976\n",
      "47    Shelton High School   9th   83.420755\n",
      "48     Thomas High School  10th   83.087886\n",
      "49     Thomas High School  11th   83.498795\n",
      "50     Thomas High School  12th   83.497041\n",
      "51     Thomas High School   9th   83.590022\n",
      "52     Wilson High School  10th   83.724422\n",
      "53     Wilson High School  11th   83.195326\n",
      "54     Wilson High School  12th   83.035794\n",
      "55     Wilson High School   9th   83.085578\n",
      "56     Wright High School  10th   84.010288\n",
      "57     Wright High School  11th   83.836782\n",
      "58     Wright High School  12th   83.644986\n",
      "59     Wright High School   9th   83.264706\n"
     ]
    }
   ],
   "source": [
    "\n",
    "average_math_by_grade = student_data.groupby(['school_name', 'grade'])['math_score'].mean()\n",
    "\n",
    "average_math_by_grade_table = average_math_by_grade.reset_index()\n",
    "print(\"Average Math Score by School and Grade:\")\n",
    "print(average_math_by_grade_table)\n",
    "\n",
    "\n"
   ]
  },
  {
   "cell_type": "code",
   "execution_count": 41,
   "metadata": {},
   "outputs": [
    {
     "name": "stdout",
     "output_type": "stream",
     "text": [
      "Average Math Score for 9th Grade in Each School:\n",
      "school_name\n",
      "Bailey High School       77.083676\n",
      "Cabrera High School      83.094697\n",
      "Figueroa High School     76.403037\n",
      "Ford High School         77.361345\n",
      "Griffin High School      82.044010\n",
      "Hernandez High School    77.438495\n",
      "Holden High School       83.787402\n",
      "Huang High School        77.027251\n",
      "Johnson High School      77.187857\n",
      "Pena High School         83.625455\n",
      "Rodriguez High School    76.859966\n",
      "Shelton High School      83.420755\n",
      "Thomas High School       83.590022\n",
      "Wilson High School       83.085578\n",
      "Wright High School       83.264706\n",
      "Name: math_score, dtype: float64\n"
     ]
    }
   ],
   "source": [
    "ninth_grade_data = student_data[student_data['grade'] == '9th']\n",
    "\n",
    "average_math_9th_grade = ninth_grade_data.groupby('school_name')['math_score'].mean()\n",
    "\n",
    "print(\"Average Math Score for 9th Grade in Each School:\")\n",
    "print(average_math_9th_grade)\n",
    "\n",
    "\n"
   ]
  },
  {
   "cell_type": "code",
   "execution_count": 40,
   "metadata": {},
   "outputs": [
    {
     "name": "stdout",
     "output_type": "stream",
     "text": [
      "Average Math Score for 10th Grade in Each School:\n",
      "school_name\n",
      "Bailey High School       76.996772\n",
      "Cabrera High School      83.154506\n",
      "Figueroa High School     76.539974\n",
      "Ford High School         77.672316\n",
      "Griffin High School      84.229064\n",
      "Hernandez High School    77.337408\n",
      "Holden High School       83.429825\n",
      "Huang High School        75.908735\n",
      "Johnson High School      76.691117\n",
      "Pena High School         83.372000\n",
      "Rodriguez High School    76.612500\n",
      "Shelton High School      82.917411\n",
      "Thomas High School       83.087886\n",
      "Wilson High School       83.724422\n",
      "Wright High School       84.010288\n",
      "Name: math_score, dtype: float64\n"
     ]
    }
   ],
   "source": [
    "tenth_grade_data = student_data[student_data['grade'] == '10th']\n",
    "\n",
    "average_math_10th_grade = tenth_grade_data.groupby('school_name')['math_score'].mean()\n",
    "\n",
    "print(\"Average Math Score for 10th Grade in Each School:\")\n",
    "print(average_math_10th_grade)\n",
    "\n",
    "\n"
   ]
  },
  {
   "cell_type": "code",
   "execution_count": 39,
   "metadata": {},
   "outputs": [
    {
     "name": "stdout",
     "output_type": "stream",
     "text": [
      "Average Math Score for 11th Grade in Each School:\n",
      "school_name\n",
      "Bailey High School       77.515588\n",
      "Cabrera High School      82.765560\n",
      "Figueroa High School     76.884344\n",
      "Ford High School         76.918058\n",
      "Griffin High School      83.842105\n",
      "Hernandez High School    77.136029\n",
      "Holden High School       85.000000\n",
      "Huang High School        76.446602\n",
      "Johnson High School      77.491653\n",
      "Pena High School         84.328125\n",
      "Rodriguez High School    76.395626\n",
      "Shelton High School      83.383495\n",
      "Thomas High School       83.498795\n",
      "Wilson High School       83.195326\n",
      "Wright High School       83.836782\n",
      "Name: math_score, dtype: float64\n"
     ]
    }
   ],
   "source": [
    "eleventh_grade_data = student_data[student_data['grade'] == '11th']\n",
    "\n",
    "average_math_11th_grade = eleventh_grade_data.groupby('school_name')['math_score'].mean()\n",
    "\n",
    "print(\"Average Math Score for 11th Grade in Each School:\")\n",
    "print(average_math_11th_grade)\n"
   ]
  },
  {
   "cell_type": "code",
   "execution_count": 42,
   "metadata": {},
   "outputs": [
    {
     "name": "stdout",
     "output_type": "stream",
     "text": [
      "Average Math Score for 12th Grade in Each School:\n",
      "school_name\n",
      "Bailey High School       76.492218\n",
      "Cabrera High School      83.277487\n",
      "Figueroa High School     77.151369\n",
      "Ford High School         76.179963\n",
      "Griffin High School      83.356164\n",
      "Hernandez High School    77.186567\n",
      "Holden High School       82.855422\n",
      "Huang High School        77.225641\n",
      "Johnson High School      76.863248\n",
      "Pena High School         84.121547\n",
      "Rodriguez High School    77.690748\n",
      "Shelton High School      83.778976\n",
      "Thomas High School       83.497041\n",
      "Wilson High School       83.035794\n",
      "Wright High School       83.644986\n",
      "Name: math_score, dtype: float64\n"
     ]
    }
   ],
   "source": [
    "twelfth_grade_data = student_data[student_data['grade'] == '12th']\n",
    "\n",
    "average_math_12th_grade = twelfth_grade_data.groupby('school_name')['math_score'].mean()\n",
    "\n",
    "print(\"Average Math Score for 12th Grade in Each School:\")\n",
    "print(average_math_12th_grade)\n",
    "\n",
    "\n"
   ]
  },
  {
   "cell_type": "markdown",
   "metadata": {},
   "source": [
    "### Reading Score by Grade "
   ]
  },
  {
   "cell_type": "markdown",
   "metadata": {},
   "source": [
    "* Perform the same operations as above for reading scores"
   ]
  },
  {
   "cell_type": "code",
   "execution_count": null,
   "metadata": {},
   "outputs": [],
   "source": [
    "average_reading_by_grade = student_data.groupby(['school_name', 'grade'])['reading_score'].mean()\n",
    "\n",
    "average_reading_by_grade_table = average_reading_by_grade.reset_index()\n",
    "\n",
    "print(\"Average Reading Score by School and Grade:\")\n",
    "print(average_reading_by_grade_table)\n",
    "\n"
   ]
  },
  {
   "cell_type": "code",
   "execution_count": null,
   "metadata": {},
   "outputs": [],
   "source": [
    "ninth_grade_reading = student_data[student_data['grade'] == '9th']\n",
    "\n",
    "average_reading_9th_grade = ninth_grade_reading.groupby('school_name')['reading_score'].mean()\n",
    "\n",
    "print(\"Average Reading Score for 9th Grade in Each School:\")\n",
    "print(average_reading_9th_grade)\n",
    "\n",
    "\n"
   ]
  },
  {
   "cell_type": "code",
   "execution_count": 43,
   "metadata": {},
   "outputs": [
    {
     "name": "stdout",
     "output_type": "stream",
     "text": [
      "Average Reading Score for 10th Grade in Each School:\n",
      "school_name\n",
      "Bailey High School       80.907183\n",
      "Cabrera High School      84.253219\n",
      "Figueroa High School     81.408912\n",
      "Ford High School         81.262712\n",
      "Griffin High School      83.706897\n",
      "Hernandez High School    80.660147\n",
      "Holden High School       83.324561\n",
      "Huang High School        81.512386\n",
      "Johnson High School      80.773431\n",
      "Pena High School         83.612000\n",
      "Rodriguez High School    80.629808\n",
      "Shelton High School      83.441964\n",
      "Thomas High School       84.254157\n",
      "Wilson High School       84.021452\n",
      "Wright High School       83.812757\n",
      "Name: reading_score, dtype: float64\n"
     ]
    }
   ],
   "source": [
    "tenth_grade_reading = student_data[student_data['grade'] == '10th']\n",
    "\n",
    "average_reading_10th_grade = tenth_grade_reading.groupby('school_name')['reading_score'].mean()\n",
    "\n",
    "print(\"Average Reading Score for 10th Grade in Each School:\")\n",
    "print(average_reading_10th_grade)\n",
    "\n",
    "\n"
   ]
  },
  {
   "cell_type": "code",
   "execution_count": null,
   "metadata": {},
   "outputs": [],
   "source": [
    "eleventh_grade_reading = student_data[student_data['grade'] == '11th']\n",
    "\n",
    "average_reading_11th_grade = eleventh_grade_reading.groupby('school_name')['reading_score'].mean()\n",
    "\n",
    "print(\"Average Reading Score for 11th Grade in Each School:\")\n",
    "print(average_reading_11th_grade)\n",
    "\n",
    "\n"
   ]
  },
  {
   "cell_type": "code",
   "execution_count": 45,
   "metadata": {},
   "outputs": [
    {
     "name": "stdout",
     "output_type": "stream",
     "text": [
      "Average Reading Score for 12th Grade in Each School:\n",
      "school_name\n",
      "Bailey High School       80.912451\n",
      "Cabrera High School      84.287958\n",
      "Figueroa High School     81.384863\n",
      "Ford High School         80.662338\n",
      "Griffin High School      84.013699\n",
      "Hernandez High School    80.857143\n",
      "Holden High School       84.698795\n",
      "Huang High School        80.305983\n",
      "Johnson High School      81.227564\n",
      "Pena High School         84.591160\n",
      "Rodriguez High School    80.376426\n",
      "Shelton High School      82.781671\n",
      "Thomas High School       83.831361\n",
      "Wilson High School       84.317673\n",
      "Wright High School       84.073171\n",
      "Name: reading_score, dtype: float64\n"
     ]
    }
   ],
   "source": [
    "twelfth_grade_reading = student_data[student_data['grade'] == '12th']\n",
    "average_reading_12th_grade = twelfth_grade_reading.groupby('school_name')['reading_score'].mean()\n",
    "\n",
    "print(\"Average Reading Score for 12th Grade in Each School:\")\n",
    "print(average_reading_12th_grade)\n",
    "\n",
    "\n"
   ]
  },
  {
   "cell_type": "markdown",
   "metadata": {},
   "source": [
    "## Scores by School Spending"
   ]
  },
  {
   "cell_type": "markdown",
   "metadata": {},
   "source": [
    "* Create a table that breaks down school performances based on average Spending Ranges (Per Student). Use 4 reasonable bins to group school spending. Include in the table each of the following:\n",
    "  * Average Math Score\n",
    "  * Average Reading Score\n",
    "  * % Passing Math\n",
    "  * % Passing Reading\n",
    "  * Overall Passing Rate (Average of the above two)"
   ]
  },
  {
   "cell_type": "code",
   "execution_count": 48,
   "metadata": {},
   "outputs": [],
   "source": [
    "# Sample bins. Feel free to create your own bins.\n",
    "spending_bins = [0, 585, 615, 645, 675]\n",
    "group_names = [\"<$585\", \"$585-615\", \"$615-645\", \"$645-675\"]"
   ]
  },
  {
   "cell_type": "code",
   "execution_count": 46,
   "metadata": {},
   "outputs": [],
   "source": [
    "\n",
    "school_summary['Per Student Budget'] = school_summary['budget'] / school_summary['Total Students']\n"
   ]
  },
  {
   "cell_type": "code",
   "execution_count": 49,
   "metadata": {},
   "outputs": [],
   "source": [
    "\n",
    "school_summary['Spending Ranges (Per Student)'] = pd.cut(\n",
    "    school_summary['Per Student Budget'], spending_bins, labels=group_names\n",
    ")\n"
   ]
  },
  {
   "cell_type": "code",
   "execution_count": 50,
   "metadata": {},
   "outputs": [
    {
     "name": "stdout",
     "output_type": "stream",
     "text": [
      "Average Math Score by Spending Range:\n",
      "Spending Ranges (Per Student)\n",
      "<$585       83.455399\n",
      "$585-615    83.599686\n",
      "$615-645    79.079225\n",
      "$645-675    76.997210\n",
      "Name: Average Math Score, dtype: float64\n"
     ]
    },
    {
     "name": "stderr",
     "output_type": "stream",
     "text": [
      "/var/folders/12/69f7sd750k7cqbxh1trh12th0000gn/T/ipykernel_3402/2409062414.py:3: FutureWarning: The default of observed=False is deprecated and will be changed to True in a future version of pandas. Pass observed=False to retain current behavior or observed=True to adopt the future default and silence this warning.\n",
      "  avg_math_score_by_spending = school_summary.groupby('Spending Ranges (Per Student)')['Average Math Score'].mean()\n"
     ]
    }
   ],
   "source": [
    "\n",
    "avg_math_score_by_spending = school_summary.groupby('Spending Ranges (Per Student)')['Average Math Score'].mean()\n",
    "\n",
    "print(\"Average Math Score by Spending Range:\")\n",
    "print(avg_math_score_by_spending)\n",
    "\n",
    "\n",
    "\n"
   ]
  },
  {
   "cell_type": "code",
   "execution_count": 51,
   "metadata": {},
   "outputs": [
    {
     "name": "stdout",
     "output_type": "stream",
     "text": [
      "Math Passing Percentage by Spending Range:\n",
      "Spending Ranges (Per Student)\n",
      "<$585       93.460096\n",
      "$585-615    94.230858\n",
      "$615-645    75.668212\n",
      "$645-675    66.164813\n",
      "Name: % Passing Math, dtype: float64\n"
     ]
    },
    {
     "name": "stderr",
     "output_type": "stream",
     "text": [
      "/var/folders/12/69f7sd750k7cqbxh1trh12th0000gn/T/ipykernel_3402/2574247551.py:4: FutureWarning: The default of observed=False is deprecated and will be changed to True in a future version of pandas. Pass observed=False to retain current behavior or observed=True to adopt the future default and silence this warning.\n",
      "  math_passing_by_spending = school_summary.groupby('Spending Ranges (Per Student)')['% Passing Math'].mean()\n"
     ]
    }
   ],
   "source": [
    "\n",
    "math_passing_by_spending = school_summary.groupby('Spending Ranges (Per Student)')['% Passing Math'].mean()\n",
    "\n",
    "print(\"Math Passing Percentage by Spending Range:\")\n",
    "print(math_passing_by_spending)\n",
    "\n",
    "\n"
   ]
  },
  {
   "cell_type": "code",
   "execution_count": 52,
   "metadata": {},
   "outputs": [
    {
     "name": "stdout",
     "output_type": "stream",
     "text": [
      "Reading Passing Percentage by Spending Range:\n",
      "Spending Ranges (Per Student)\n",
      "<$585       96.610877\n",
      "$585-615    95.900287\n",
      "$615-645    86.106569\n",
      "$645-675    81.133951\n",
      "Name: % Passing Reading, dtype: float64\n"
     ]
    },
    {
     "name": "stderr",
     "output_type": "stream",
     "text": [
      "/var/folders/12/69f7sd750k7cqbxh1trh12th0000gn/T/ipykernel_3402/1098314201.py:3: FutureWarning: The default of observed=False is deprecated and will be changed to True in a future version of pandas. Pass observed=False to retain current behavior or observed=True to adopt the future default and silence this warning.\n",
      "  reading_passing_by_spending = school_summary.groupby('Spending Ranges (Per Student)')['% Passing Reading'].mean()\n"
     ]
    }
   ],
   "source": [
    "\n",
    "reading_passing_by_spending = school_summary.groupby('Spending Ranges (Per Student)')['% Passing Reading'].mean()\n",
    "\n",
    "print(\"Reading Passing Percentage by Spending Range:\")\n",
    "print(reading_passing_by_spending)\n",
    "\n",
    "\n"
   ]
  },
  {
   "cell_type": "code",
   "execution_count": 53,
   "metadata": {},
   "outputs": [
    {
     "name": "stdout",
     "output_type": "stream",
     "text": [
      "Overall Passing Rate by Spending Range:\n",
      "Spending Ranges (Per Student)\n",
      "<$585       95.035486\n",
      "$585-615    95.065572\n",
      "$615-645    80.887391\n",
      "$645-675    73.649382\n",
      "Name: Overall Passing Rate, dtype: float64\n"
     ]
    },
    {
     "name": "stderr",
     "output_type": "stream",
     "text": [
      "/var/folders/12/69f7sd750k7cqbxh1trh12th0000gn/T/ipykernel_3402/22288026.py:3: FutureWarning: The default of observed=False is deprecated and will be changed to True in a future version of pandas. Pass observed=False to retain current behavior or observed=True to adopt the future default and silence this warning.\n",
      "  overall_passing_by_spending = school_summary.groupby('Spending Ranges (Per Student)')['Overall Passing Rate'].mean()\n"
     ]
    }
   ],
   "source": [
    "\n",
    "overall_passing_by_spending = school_summary.groupby('Spending Ranges (Per Student)')['Overall Passing Rate'].mean()\n",
    "\n",
    "print(\"Overall Passing Rate by Spending Range:\")\n",
    "print(overall_passing_by_spending)\n",
    "\n",
    "\n"
   ]
  },
  {
   "cell_type": "markdown",
   "metadata": {},
   "source": [
    "### Scores by School Size"
   ]
  },
  {
   "cell_type": "markdown",
   "metadata": {},
   "source": [
    "* Perform the same operations as above, based on school size."
   ]
  },
  {
   "cell_type": "code",
   "execution_count": 54,
   "metadata": {},
   "outputs": [],
   "source": [
    "# Sample bins. Feel free to create your own bins.\n",
    "size_bins = [0, 1000, 2000, 5000]\n",
    "group_names = [\"Small (<1000)\", \"Medium (1000-2000)\", \"Large (2000-5000)\"]"
   ]
  },
  {
   "cell_type": "code",
   "execution_count": 60,
   "metadata": {
    "scrolled": true
   },
   "outputs": [],
   "source": [
    "school_summary['School Size'] = pd.cut(school_summary['Total Students'], size_bins, labels=group_names)\n"
   ]
  },
  {
   "cell_type": "markdown",
   "metadata": {},
   "source": [
    "Look for the total count of test scores that pass 70% or higher\n",
    "\n",
    "\n"
   ]
  },
  {
   "cell_type": "code",
   "execution_count": 61,
   "metadata": {},
   "outputs": [],
   "source": [
    "# math_pass_size\n",
    "\n",
    "\n",
    "math_pass_size = student_data[student_data['math_score'] >= 70].groupby('school_name')['student_name'].count()\n",
    "\n",
    "school_summary = school_summary.merge(math_pass_size, on='school_name', how='left').rename(columns={'student_name': 'Math Passing Count'})\n"
   ]
  },
  {
   "cell_type": "code",
   "execution_count": 62,
   "metadata": {},
   "outputs": [],
   "source": [
    "\n",
    "read_pass_size = student_data[student_data['reading_score'] >= 70].groupby('school_name')['student_name'].count()\n",
    "\n",
    "school_summary = school_summary.merge(read_pass_size, on='school_name', how='left').rename(columns={'student_name': 'Reading Passing Count'})\n",
    "\n"
   ]
  },
  {
   "cell_type": "code",
   "execution_count": 70,
   "metadata": {},
   "outputs": [
    {
     "name": "stdout",
     "output_type": "stream",
     "text": [
      "15\n",
      "                       Math Passing Count  Math Passing Count  \\\n",
      "school_name                                                     \n",
      "Huang High School                    1916                1916   \n",
      "Figueroa High School                 1946                1946   \n",
      "Shelton High School                  1653                1653   \n",
      "Hernandez High School                3094                3094   \n",
      "Griffin High School                  1371                1371   \n",
      "\n",
      "                       Reading Passing Count  Reading Passing Count  \n",
      "school_name                                                          \n",
      "Huang High School                       2372                   2372  \n",
      "Figueroa High School                    2381                   2381  \n",
      "Shelton High School                     1688                   1688  \n",
      "Hernandez High School                   3748                   3748  \n",
      "Griffin High School                     1426                   1426  \n"
     ]
    },
    {
     "ename": "KeyError",
     "evalue": "\"['school_name'] not in index\"",
     "output_type": "error",
     "traceback": [
      "\u001b[0;31m---------------------------------------------------------------------------\u001b[0m",
      "\u001b[0;31mKeyError\u001b[0m                                  Traceback (most recent call last)",
      "Cell \u001b[0;32mIn[70], line 6\u001b[0m\n\u001b[1;32m      2\u001b[0m \u001b[38;5;28mprint\u001b[39m(\u001b[38;5;28mlen\u001b[39m(school_summary))\n\u001b[1;32m      3\u001b[0m \u001b[38;5;28mprint\u001b[39m(school_summary[[\u001b[38;5;124m'\u001b[39m\u001b[38;5;124mMath Passing Count\u001b[39m\u001b[38;5;124m'\u001b[39m, \u001b[38;5;124m'\u001b[39m\u001b[38;5;124mReading Passing Count\u001b[39m\u001b[38;5;124m'\u001b[39m]]\u001b[38;5;241m.\u001b[39mhead())\n\u001b[0;32m----> 6\u001b[0m \u001b[38;5;28mprint\u001b[39m(\u001b[43mschool_summary\u001b[49m\u001b[43m[\u001b[49m\u001b[43m[\u001b[49m\u001b[38;5;124;43m'\u001b[39;49m\u001b[38;5;124;43mschool_name\u001b[39;49m\u001b[38;5;124;43m'\u001b[39;49m\u001b[43m,\u001b[49m\u001b[43m \u001b[49m\u001b[38;5;124;43m'\u001b[39;49m\u001b[38;5;124;43mSchool Size\u001b[39;49m\u001b[38;5;124;43m'\u001b[39;49m\u001b[43m,\u001b[49m\u001b[43m \u001b[49m\u001b[38;5;124;43m'\u001b[39;49m\u001b[38;5;124;43mMath Passing Count\u001b[39;49m\u001b[38;5;124;43m'\u001b[39;49m\u001b[43m,\u001b[49m\u001b[43m \u001b[49m\u001b[38;5;124;43m'\u001b[39;49m\u001b[38;5;124;43mReading Passing Count\u001b[39;49m\u001b[38;5;124;43m'\u001b[39;49m\u001b[43m,\u001b[49m\u001b[43m \u001b[49m\u001b[38;5;124;43m'\u001b[39;49m\u001b[38;5;124;43mOverall Passing Rate\u001b[39;49m\u001b[38;5;124;43m'\u001b[39;49m\u001b[43m]\u001b[49m\u001b[43m]\u001b[49m)\n",
      "File \u001b[0;32m/Library/Frameworks/Python.framework/Versions/3.12/lib/python3.12/site-packages/pandas/core/frame.py:4108\u001b[0m, in \u001b[0;36mDataFrame.__getitem__\u001b[0;34m(self, key)\u001b[0m\n\u001b[1;32m   4106\u001b[0m     \u001b[38;5;28;01mif\u001b[39;00m is_iterator(key):\n\u001b[1;32m   4107\u001b[0m         key \u001b[38;5;241m=\u001b[39m \u001b[38;5;28mlist\u001b[39m(key)\n\u001b[0;32m-> 4108\u001b[0m     indexer \u001b[38;5;241m=\u001b[39m \u001b[38;5;28;43mself\u001b[39;49m\u001b[38;5;241;43m.\u001b[39;49m\u001b[43mcolumns\u001b[49m\u001b[38;5;241;43m.\u001b[39;49m\u001b[43m_get_indexer_strict\u001b[49m\u001b[43m(\u001b[49m\u001b[43mkey\u001b[49m\u001b[43m,\u001b[49m\u001b[43m \u001b[49m\u001b[38;5;124;43m\"\u001b[39;49m\u001b[38;5;124;43mcolumns\u001b[39;49m\u001b[38;5;124;43m\"\u001b[39;49m\u001b[43m)\u001b[49m[\u001b[38;5;241m1\u001b[39m]\n\u001b[1;32m   4110\u001b[0m \u001b[38;5;66;03m# take() does not accept boolean indexers\u001b[39;00m\n\u001b[1;32m   4111\u001b[0m \u001b[38;5;28;01mif\u001b[39;00m \u001b[38;5;28mgetattr\u001b[39m(indexer, \u001b[38;5;124m\"\u001b[39m\u001b[38;5;124mdtype\u001b[39m\u001b[38;5;124m\"\u001b[39m, \u001b[38;5;28;01mNone\u001b[39;00m) \u001b[38;5;241m==\u001b[39m \u001b[38;5;28mbool\u001b[39m:\n",
      "File \u001b[0;32m/Library/Frameworks/Python.framework/Versions/3.12/lib/python3.12/site-packages/pandas/core/indexes/base.py:6200\u001b[0m, in \u001b[0;36mIndex._get_indexer_strict\u001b[0;34m(self, key, axis_name)\u001b[0m\n\u001b[1;32m   6197\u001b[0m \u001b[38;5;28;01melse\u001b[39;00m:\n\u001b[1;32m   6198\u001b[0m     keyarr, indexer, new_indexer \u001b[38;5;241m=\u001b[39m \u001b[38;5;28mself\u001b[39m\u001b[38;5;241m.\u001b[39m_reindex_non_unique(keyarr)\n\u001b[0;32m-> 6200\u001b[0m \u001b[38;5;28;43mself\u001b[39;49m\u001b[38;5;241;43m.\u001b[39;49m\u001b[43m_raise_if_missing\u001b[49m\u001b[43m(\u001b[49m\u001b[43mkeyarr\u001b[49m\u001b[43m,\u001b[49m\u001b[43m \u001b[49m\u001b[43mindexer\u001b[49m\u001b[43m,\u001b[49m\u001b[43m \u001b[49m\u001b[43maxis_name\u001b[49m\u001b[43m)\u001b[49m\n\u001b[1;32m   6202\u001b[0m keyarr \u001b[38;5;241m=\u001b[39m \u001b[38;5;28mself\u001b[39m\u001b[38;5;241m.\u001b[39mtake(indexer)\n\u001b[1;32m   6203\u001b[0m \u001b[38;5;28;01mif\u001b[39;00m \u001b[38;5;28misinstance\u001b[39m(key, Index):\n\u001b[1;32m   6204\u001b[0m     \u001b[38;5;66;03m# GH 42790 - Preserve name from an Index\u001b[39;00m\n",
      "File \u001b[0;32m/Library/Frameworks/Python.framework/Versions/3.12/lib/python3.12/site-packages/pandas/core/indexes/base.py:6252\u001b[0m, in \u001b[0;36mIndex._raise_if_missing\u001b[0;34m(self, key, indexer, axis_name)\u001b[0m\n\u001b[1;32m   6249\u001b[0m     \u001b[38;5;28;01mraise\u001b[39;00m \u001b[38;5;167;01mKeyError\u001b[39;00m(\u001b[38;5;124mf\u001b[39m\u001b[38;5;124m\"\u001b[39m\u001b[38;5;124mNone of [\u001b[39m\u001b[38;5;132;01m{\u001b[39;00mkey\u001b[38;5;132;01m}\u001b[39;00m\u001b[38;5;124m] are in the [\u001b[39m\u001b[38;5;132;01m{\u001b[39;00maxis_name\u001b[38;5;132;01m}\u001b[39;00m\u001b[38;5;124m]\u001b[39m\u001b[38;5;124m\"\u001b[39m)\n\u001b[1;32m   6251\u001b[0m not_found \u001b[38;5;241m=\u001b[39m \u001b[38;5;28mlist\u001b[39m(ensure_index(key)[missing_mask\u001b[38;5;241m.\u001b[39mnonzero()[\u001b[38;5;241m0\u001b[39m]]\u001b[38;5;241m.\u001b[39munique())\n\u001b[0;32m-> 6252\u001b[0m \u001b[38;5;28;01mraise\u001b[39;00m \u001b[38;5;167;01mKeyError\u001b[39;00m(\u001b[38;5;124mf\u001b[39m\u001b[38;5;124m\"\u001b[39m\u001b[38;5;132;01m{\u001b[39;00mnot_found\u001b[38;5;132;01m}\u001b[39;00m\u001b[38;5;124m not in index\u001b[39m\u001b[38;5;124m\"\u001b[39m)\n",
      "\u001b[0;31mKeyError\u001b[0m: \"['school_name'] not in index\""
     ]
    }
   ],
   "source": [
    "# Check the lengths to ensure alignment\n",
    "print(len(school_summary))\n",
    "print(school_summary[['Math Passing Count', 'Reading Passing Count']].head())\n",
    "\n"
   ]
  },
  {
   "cell_type": "markdown",
   "metadata": {},
   "source": [
    "### Scores by School Type"
   ]
  },
  {
   "cell_type": "markdown",
   "metadata": {},
   "source": [
    "* Perform the same operations as above, based on school type."
   ]
  },
  {
   "cell_type": "code",
   "execution_count": 55,
   "metadata": {},
   "outputs": [],
   "source": [
    "# Create bins and groups, school type {'Charter', 'District'}\n",
    "\n",
    "\n",
    "# Create bins and groups by school type {'Charter', 'District'}\n",
    "school_type_groups = school_data.groupby('type')\n"
   ]
  },
  {
   "cell_type": "markdown",
   "metadata": {},
   "source": [
    "Find counts of the passing 70 or higher score for the both test\n"
   ]
  },
  {
   "cell_type": "code",
   "execution_count": 56,
   "metadata": {},
   "outputs": [],
   "source": [
    "# math pass size\n",
    "# Find the counts of students with math scores 70 or higher, grouped by school type\n",
    "math_pass_size = student_data[student_data['math_score'] >= 70].groupby('school_name')['student_name'].count()\n",
    "\n",
    "# Merge the math passing counts with the school summary by school name\n",
    "school_summary = school_summary.merge(math_pass_size, on='school_name', how='left').rename(columns={'student_name': 'Math Passing Count'})\n",
    "\n",
    "\n"
   ]
  },
  {
   "cell_type": "code",
   "execution_count": 57,
   "metadata": {},
   "outputs": [],
   "source": [
    "# reading pass size\n",
    "# Find the counts of students with reading scores 70 or higher, grouped by school type\n",
    "reading_pass_size = student_data[student_data['reading_score'] >= 70].groupby('school_name')['student_name'].count()\n",
    "\n",
    "# Merge the reading passing counts with the school summary by school name\n",
    "school_summary = school_summary.merge(reading_pass_size, on='school_name', how='left').rename(columns={'student_name': 'Reading Passing Count'})\n",
    "\n"
   ]
  },
  {
   "cell_type": "code",
   "execution_count": 58,
   "metadata": {},
   "outputs": [
    {
     "name": "stdout",
     "output_type": "stream",
     "text": [
      "Overall Passing Rate by School Type:\n",
      "type\n",
      "Charter     1450.687500\n",
      "District    2840.642857\n",
      "Name: Overall Passing Rate, dtype: float64\n"
     ]
    }
   ],
   "source": [
    "# Calculate the overall passing rate\n",
    "\n",
    "# Calculate the overall passing rate by averaging the math and reading passing rates\n",
    "school_summary['Overall Passing Rate'] = (school_summary['Math Passing Count'] + school_summary['Reading Passing Count']) / 2\n",
    "\n",
    "# Group the summary data by school type and calculate the average overall passing rate\n",
    "overall_passing_rate_by_type = school_summary.groupby('type')['Overall Passing Rate'].mean()\n",
    "\n",
    "# Display the overall passing rate by school type\n",
    "print(\"Overall Passing Rate by School Type:\")\n",
    "print(overall_passing_rate_by_type)\n"
   ]
  }
 ],
 "metadata": {
  "anaconda-cloud": {},
  "kernel_info": {
   "name": "python3"
  },
  "kernelspec": {
   "display_name": "Python 3 (ipykernel)",
   "language": "python",
   "name": "python3"
  },
  "language_info": {
   "codemirror_mode": {
    "name": "ipython",
    "version": 3
   },
   "file_extension": ".py",
   "mimetype": "text/x-python",
   "name": "python",
   "nbconvert_exporter": "python",
   "pygments_lexer": "ipython3",
   "version": "3.12.3"
  },
  "latex_envs": {
   "LaTeX_envs_menu_present": true,
   "autoclose": false,
   "autocomplete": true,
   "bibliofile": "biblio.bib",
   "cite_by": "apalike",
   "current_citInitial": 1,
   "eqLabelWithNumbers": true,
   "eqNumInitial": 1,
   "hotkeys": {
    "equation": "Ctrl-E",
    "itemize": "Ctrl-I"
   },
   "labels_anchors": false,
   "latex_user_defs": false,
   "report_style_numbering": false,
   "user_envs_cfg": false
  },
  "nteract": {
   "version": "0.8.4"
  },
  "toc": {
   "base_numbering": 1,
   "nav_menu": {},
   "number_sections": true,
   "sideBar": true,
   "skip_h1_title": false,
   "title_cell": "Table of Contents",
   "title_sidebar": "Contents",
   "toc_cell": false,
   "toc_position": {},
   "toc_section_display": true,
   "toc_window_display": false
  }
 },
 "nbformat": 4,
 "nbformat_minor": 1
}
